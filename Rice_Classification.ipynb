{
  "nbformat": 4,
  "nbformat_minor": 0,
  "metadata": {
    "colab": {
      "name": "Rice_Classification.ipynb",
      "provenance": [],
      "collapsed_sections": [],
      "authorship_tag": "ABX9TyOoxBHtkBI6YiQEEzF57gws",
      "include_colab_link": true
    },
    "kernelspec": {
      "name": "python3",
      "display_name": "Python 3"
    },
    "language_info": {
      "name": "python"
    },
    "accelerator": "GPU"
  },
  "cells": [
    {
      "cell_type": "markdown",
      "metadata": {
        "id": "view-in-github",
        "colab_type": "text"
      },
      "source": [
        "<a href=\"https://colab.research.google.com/github/truongkhng/Final_AI_Project/blob/main/Rice_Classification.ipynb\" target=\"_parent\"><img src=\"https://colab.research.google.com/assets/colab-badge.svg\" alt=\"Open In Colab\"/></a>"
      ]
    },
    {
      "cell_type": "code",
      "source": [
        "!pip install -q kaggle\n",
        "!mkdir ~/.kaggle\n",
        "!cp kaggle.json ~/.kaggle/\n",
        "!chmod 600 ~/.kaggle/kaggle.json\n",
        "!kaggle datasets download -d muratkokludataset/rice-image-dataset\n",
        "!unzip rice-image-dataset.zip"
      ],
      "metadata": {
        "colab": {
          "base_uri": "https://localhost:8080/"
        },
        "id": "Fz-am8n4z8-g",
        "outputId": "91750768-b4e5-494f-9935-a5112c922f0e"
      },
      "execution_count": null,
      "outputs": [
        {
          "output_type": "stream",
          "name": "stdout",
          "text": [
            "mkdir: cannot create directory ‘/root/.kaggle’: File exists\n",
            "rice-image-dataset.zip: Skipping, found more recently modified local copy (use --force to force download)\n",
            "Archive:  rice-image-dataset.zip\n",
            "replace Rice_Image_Dataset/Arborio/Arborio (1).jpg? [y]es, [n]o, [A]ll, [N]one, [r]ename: n\n",
            "replace Rice_Image_Dataset/Arborio/Arborio (10).jpg? [y]es, [n]o, [A]ll, [N]one, [r]ename: "
          ]
        }
      ]
    },
    {
      "cell_type": "code",
      "source": [
        "from keras.models import Sequential\n",
        "from keras.layers import Dense, Flatten, Dropout, Conv2D, MaxPool2D, BatchNormalization\n",
        "from keras.utils import np_utils\n",
        "from keras.callbacks import ModelCheckpoint\n",
        "from keras.preprocessing.image import ImageDataGenerator\n",
        "from tensorflow.keras.optimizers import Adam\n",
        "import pandas as pd\n",
        "import numpy as np\n",
        "import matplotlib.pyplot as plt\n",
        "from random import randint\n",
        "import cv2\n",
        "from os import listdir\n",
        "import pickle\n",
        "from sklearn.model_selection import train_test_split\n",
        "from sklearn.preprocessing import LabelBinarizer"
      ],
      "metadata": {
        "id": "ic3Ie7EI0Q73"
      },
      "execution_count": null,
      "outputs": []
    },
    {
      "cell_type": "code",
      "source": [
        "def create_img_dataset(raw_folder,dataset_name):\n",
        "\n",
        "    target_size = (250, 250)\n",
        "    pictures = []\n",
        "    labels = []\n",
        "    #i = 0\n",
        "    for folder in listdir(raw_folder):\n",
        "      #print(\"Folder=\",folder)\n",
        "      for file in listdir(raw_folder + \"/\" + folder)[:2000]:\n",
        "        #i+=1\n",
        "        #print(\"File=\", file)\n",
        "        #print(i)\n",
        "        pictures.append(cv2.resize(cv2.imread(raw_folder + \"/\" + folder + \"/\" + file)\n",
        "                                              ,dsize = target_size))\n",
        "        labels.append(folder)\n",
        "\n",
        "    pictures = np.array(pictures)\n",
        "    labels = np.array(labels)\n",
        "\n",
        "    encoder = LabelBinarizer()\n",
        "    labels = encoder.fit_transform(labels)\n",
        "\n",
        "    with open (dataset_name, mode = 'wb') as file:\n",
        "    # dump information to that file\n",
        "      pickle.dump((pictures,labels), file)\n",
        "\n",
        "    file.close()\n",
        "\n",
        "def load_data(dataset_path):\n",
        "\n",
        "    file = open(dataset_path, mode = 'rb')\n",
        "    # dump information to that file\n",
        "    (pictures, labels) = pickle.load (file)\n",
        "    file.close()\n",
        "\n",
        "    return pictures, labels"
      ],
      "metadata": {
        "id": "A2Yfz1k01BAg"
      },
      "execution_count": null,
      "outputs": []
    },
    {
      "cell_type": "code",
      "source": [
        "raw_folder = \"/content/Rice_Image_Dataset\"\n",
        "\n",
        "create_img_dataset(raw_folder= raw_folder,dataset_name= 'rice.txt')\n",
        "dataset_path = \"rice.txt\"\n",
        "x_data,y_data = load_data(dataset_path= 'rice.txt')\n",
        "\n",
        "x_train, x_test, y_train, y_test = train_test_split( x_data, y_data, test_size=0.2, random_state=100)\n",
        "\n",
        "print(x_train.shape)\n",
        "print(y_train.shape)\n",
        "print(x_test.shape)\n",
        "print(y_test.shape)"
      ],
      "metadata": {
        "colab": {
          "base_uri": "https://localhost:8080/"
        },
        "id": "GFwxjA2D1FY2",
        "outputId": "03ddfc08-8e24-41f8-d4df-305481d94ae9"
      },
      "execution_count": null,
      "outputs": [
        {
          "output_type": "stream",
          "name": "stdout",
          "text": [
            "(8000, 250, 250, 3)\n",
            "(8000, 5)\n",
            "(2000, 250, 250, 3)\n",
            "(2000, 5)\n"
          ]
        }
      ]
    },
    {
      "cell_type": "code",
      "source": [
        "x_test_original = x_test;\n",
        "y_test_original = y_test;\n",
        "x_label = ['Arborio','Barley','Basmati','Brown_rice','Ipsala','Japonica',\n",
        "           'Jasmine','Jungwon','Karacadag','Sticky_rice']\n",
        "\n",
        "x_train = x_train.astype('float32')\n",
        "x_test = x_test.astype('float32')\n",
        "x_train /= 255.0\n",
        "x_test /= 255.0"
      ],
      "metadata": {
        "id": "zrA2WPDu1MOn"
      },
      "execution_count": null,
      "outputs": []
    },
    {
      "cell_type": "code",
      "source": [
        "model = Sequential()\n",
        "model.add (Conv2D(32,(5,5),activation='relu',kernel_initializer='normal',padding='same',\n",
        "                  input_shape=(250,250,3)))\n",
        "model.add(BatchNormalization(axis=-1))\n",
        "model.add(Conv2D(32,(5,5),activation='relu',kernel_initializer='normal',padding='same'))\n",
        "model.add(BatchNormalization(axis=-1))\n",
        "model.add(MaxPool2D((2,2)))\n",
        "model.add(Dropout(0.25))\n",
        "\n",
        "model.add(Conv2D(64,(5,5),activation='relu',kernel_initializer='normal',padding='same'))\n",
        "model.add(BatchNormalization(axis=-1))\n",
        "model.add(Conv2D(64,(5,5),activation='relu',kernel_initializer='normal',padding='same'))\n",
        "model.add(BatchNormalization(axis=-1))\n",
        "model.add(MaxPool2D((2,2)))\n",
        "model.add(Dropout(0.25))\n",
        "\n",
        "model.add(Flatten())\n",
        "model.add(Dense(64,activation='relu',kernel_initializer='normal'))\n",
        "model.add(Dense(10,activation='softmax'))\n",
        "model.summary()"
      ],
      "metadata": {
        "id": "wEfRhBpxHBUE"
      },
      "execution_count": null,
      "outputs": []
    },
    {
      "cell_type": "code",
      "source": [
        "myImageGen = ImageDataGenerator(rotation_range=20,\n",
        "                                width_shift_range = 0.1,\n",
        "                                height_shift_range = 0.1,\n",
        "                                horizontal_flip=True,\n",
        "                                vertical_flip=True)"
      ],
      "metadata": {
        "id": "6i2POJdxKI8y"
      },
      "execution_count": null,
      "outputs": []
    },
    {
      "cell_type": "code",
      "source": [
        "checkpoint = ModelCheckpoint(filepath= \"Rice-weights-{epoch:02d}-{val_accuracy:.4f}.h5\",\n",
        "                             monitor='val_accuracy', verbose=1, save_best_only=True, mode='max')\n",
        "callbacks_list = [checkpoint]\n",
        "\n",
        "model.compile(loss='categorical_crossentropy',optimizer=Adam(),metrics=['accuracy'])\n",
        "history = model.fit_generator(myImageGen.flow(x_train,y_train, batch_size = 32),epochs=100,\n",
        "                              validation_data=myImageGen.flow(x_test,y_test, batch_size = 128),\n",
        "                              verbose=1,callbacks=callbacks_list)"
      ],
      "metadata": {
        "id": "W_55_QMo4wkg"
      },
      "execution_count": null,
      "outputs": []
    },
    {
      "cell_type": "code",
      "source": [
        "score = model.evaluate(x_test, y_test, verbose = 0)\n",
        "print('Test loss:', score[0])\n",
        "print('Test accuracy:', score[1])"
      ],
      "metadata": {
        "id": "HraXVWWdJOPg"
      },
      "execution_count": null,
      "outputs": []
    },
    {
      "cell_type": "code",
      "source": [
        "model_json = model.to_json()\n",
        "with open('Rice_config.json', 'w') as json_file:\n",
        "    json_file.write(model_json)"
      ],
      "metadata": {
        "id": "p0ffeV1iBr19"
      },
      "execution_count": null,
      "outputs": []
    },
    {
      "cell_type": "code",
      "source": [
        "# Show original Image\n",
        "i = randint(0,len(y_test_original)-1)\n",
        "print (\"picture \",i)\n",
        "print(\"actual:\", y_test_original[i])\n",
        "plt.imshow(x_test_original[i])\n",
        "\n",
        "# Sample Predict\n",
        "sample = np.array([x_test[i]])\n",
        "predictions = np.argmax(model.predict(sample), axis=-1)\n",
        "print(\"predictions:\", predictions)\n",
        "print(\"predictions label:\", x_label[int(predictions)])"
      ],
      "metadata": {
        "id": "CFOXlFftDpiY"
      },
      "execution_count": null,
      "outputs": []
    },
    {
      "cell_type": "code",
      "source": [
        "# Graphs of accuracy\n",
        "plt.figure(figsize=(8,5))\n",
        "plt.grid(True)\n",
        "#plt.gca().set_ylim(0,1)\n",
        "plt.plot(history.history['accuracy'])\n",
        "plt.plot(history.history['val_accuracy'])\n",
        "plt.title('model accuracy')\n",
        "plt.ylabel('accuracy')\n",
        "plt.xlabel('epoch')\n",
        "plt.legend(['train','validation'],loc='lower right')\n",
        "plt.show()"
      ],
      "metadata": {
        "id": "P4942ZUyDzHX"
      },
      "execution_count": null,
      "outputs": []
    }
  ]
}